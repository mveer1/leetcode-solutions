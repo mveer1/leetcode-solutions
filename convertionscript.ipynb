{
  "nbformat": 4,
  "nbformat_minor": 0,
  "metadata": {
    "colab": {
      "name": "convertionscript.ipynb",
      "provenance": [],
      "authorship_tag": "ABX9TyPnpR9xFEaEIktu2hCjiIYH",
      "include_colab_link": true
    },
    "kernelspec": {
      "name": "python3",
      "display_name": "Python 3"
    },
    "language_info": {
      "name": "python"
    }
  },
  "cells": [
    {
      "cell_type": "markdown",
      "metadata": {
        "id": "view-in-github",
        "colab_type": "text"
      },
      "source": [
        "<a href=\"https://colab.research.google.com/github/mveer1/leetcode-solutions/blob/main/convertionscript.ipynb\" target=\"_parent\"><img src=\"https://colab.research.google.com/assets/colab-badge.svg\" alt=\"Open In Colab\"/></a>"
      ]
    },
    {
      "cell_type": "code",
      "metadata": {
        "id": "Qcx3BFC_c58X"
      },
      "source": [
        "fileh = open(\"CPlog.txt\")"
      ],
      "execution_count": 5,
      "outputs": []
    },
    {
      "cell_type": "code",
      "metadata": {
        "id": "XVKnVf6qdgzo"
      },
      "source": [
        "\"\"\"Converting questions from .txt into python .py files\"\"\"\n",
        "file = fileh.read()"
      ],
      "execution_count": 6,
      "outputs": []
    },
    {
      "cell_type": "code",
      "metadata": {
        "id": "zIe4kv-yeIYA"
      },
      "source": [
        "fileh.close()"
      ],
      "execution_count": 8,
      "outputs": []
    },
    {
      "cell_type": "code",
      "metadata": {
        "colab": {
          "base_uri": "https://localhost:8080/"
        },
        "id": "4A1eTibKelnz",
        "outputId": "7310e9d4-12ac-4962-c698-4cbcf328534e"
      },
      "source": [
        "type(file)"
      ],
      "execution_count": 9,
      "outputs": [
        {
          "output_type": "execute_result",
          "data": {
            "text/plain": [
              "str"
            ]
          },
          "metadata": {
            "tags": []
          },
          "execution_count": 9
        }
      ]
    },
    {
      "cell_type": "code",
      "metadata": {
        "id": "JI6CEB1NeqyX"
      },
      "source": [
        "qlist = file.split(\"\\n\\n\\n\\n\\n\\n\")"
      ],
      "execution_count": 27,
      "outputs": []
    },
    {
      "cell_type": "code",
      "metadata": {
        "colab": {
          "base_uri": "https://localhost:8080/"
        },
        "id": "YSC-FL9xezb9",
        "outputId": "16da3fdd-627c-4c0d-a804-2ad6904bde99"
      },
      "source": [
        "print(qlist[-5:])\n",
        "print(len(qlist))"
      ],
      "execution_count": 28,
      "outputs": [
        {
          "output_type": "stream",
          "text": [
            "['', '\\n\\n\\n1342. Number of Steps to Reduce a Number to Zero\\nGiven a non-negative integer num, return the number of steps to reduce it to zero. If the current number is even, you have to divide it by 2, otherwise, you have to subtract 1 from it.\\n\\nmysol: best\\nclass Solution:\\n    def numberOfSteps(self, num: int) -> int:\\n        steps=0\\n        while num!=0:\\n            if num%2==0:\\n                num = num/2\\n                steps+=1\\n            else:\\n                num -=1\\n                steps+=1\\n        return steps', '', '', '']\n",
            "90\n"
          ],
          "name": "stdout"
        }
      ]
    },
    {
      "cell_type": "code",
      "metadata": {
        "id": "v8KL_ZtWe1L4"
      },
      "source": [
        "# delete all empty lines\n",
        "qlist = [i for i in qlist if i !=\"\"]"
      ],
      "execution_count": 29,
      "outputs": []
    },
    {
      "cell_type": "code",
      "metadata": {
        "colab": {
          "base_uri": "https://localhost:8080/"
        },
        "id": "cmrUq3DefmRu",
        "outputId": "998aac26-8f8c-4612-82b4-c261aa7dea36"
      },
      "source": [
        "len(qlist)"
      ],
      "execution_count": 30,
      "outputs": [
        {
          "output_type": "execute_result",
          "data": {
            "text/plain": [
              "39"
            ]
          },
          "metadata": {
            "tags": []
          },
          "execution_count": 30
        }
      ]
    },
    {
      "cell_type": "code",
      "metadata": {
        "colab": {
          "base_uri": "https://localhost:8080/"
        },
        "id": "PiW22aFjfoUV",
        "outputId": "f417c41c-af7e-4d67-c6ed-ba022901e96d"
      },
      "source": [
        "qlist"
      ],
      "execution_count": 31,
      "outputs": [
        {
          "output_type": "execute_result",
          "data": {
            "text/plain": [
              "['Kth Missing Positive Number\\nGiven an array arr of positive integers sorted in a strictly increasing order, and an integer k.\\nFind the kth positive integer that is missing from this array.\\n\\nInput: arr = [2,3,4,7,11], k = 5\\nOutput: 9\\n\\nExplanation: The missing positive integers are [1,5,6,8,9,10,12,13,...]. The 5th missing positive integer is 9\\n\\nmysol:\\n48ms\\nclass Solution:\\n    def findKthPositive(self, arr: List[int], k: int) -> int:\\n        s = set()\\n        for i in range(k+len(arr)+5):\\n            s.add(i)\\n        rem = s-set(arr)\\n        rem = sorted(list(rem))\\n        return rem[k]\\n\\n\\n48ms\\nclass Solution:\\n    def findKthPositive(self, arr: List[int], k: int) -> int:\\n        Val,i,count,Set = 0,1,0,set(arr)\\n        while True:\\n            if count == k:\\n                return Val\\n            if i not in Set:\\n                Val = i\\n                count += 1\\n            i += 1  \\n\\n\\n\\n32ms\\nclass Solution:\\n    def findKthPositive(self, arr: List[int], k: int) -> int:\\n        l, r = 0, len(arr) - 1\\n        while l <= r:\\n            m = (l + r) // 2\\n            if k <= arr[m] - (m + 1):\\n                r = m - 1\\n            else:\\n                l = m + 1\\n        # return k - (arr[r] - (r + 1)) + arr[r]\\n        return k + l',\n",
              " '\\n\\nGet Maximum in Generated Array\\n\\nYou are given an integer n. An array nums of length n + 1 is generated in the following way:\\n\\nnums[0] = 0\\nnums[1] = 1\\nnums[2 * i] = nums[i] when 2 <= 2 * i <= n\\nnums[2 * i + 1] = nums[i] + nums[i + 1] when 2 <= 2 * i + 1 <= n\\nReturn the maximum integer in the array nums\\u200b\\u200b\\u200b.\\n\\nInput: n = 3\\nOutput: 2\\nExplanation: According to the given rules, the maximum between nums[0], nums[1], nums[2], and nums[3] is 2.\\n\\nmysol:\\nclass Solution:\\n    def getMaximumGenerated(self, n: int) -> int:\\n        nums = [0]*(n+1)\\n        if n<=1:\\n            return n\\n        nums[0] = 0\\n        nums[1] = 1\\n        largest = -1\\n        even = n//2+1\\n        if n%2==0:\\n            even = n//2\\n        for i in range(even):\\n            nums[2*i] = nums[i]\\n            nums[2*i+1] = nums[i]+nums[i+1]\\n            if nums[2*i]>nums[2*i+1]:\\n                large = nums[2*i]\\n            else:\\n                large = nums[2*i+1]\\n            if large>largest:\\n                largest=large\\n        return largest\\n\\nbest:\\nclass Solution:\\n    def getMaximumGenerated(self, n: int) -> int:\\n        arr = []\\n        cur_max = 0\\n        for i in range(n + 1):\\n            if i == 0 or i == 1:\\n                arr.append(i)\\n            elif i % 2 == 0:\\n                arr.append(arr[i // 2])\\n            else:\\n                arr.append(arr[i // 2] + arr[i // 2 + 1])\\n            if arr[i] > cur_max:\\n                cur_max = arr[i]\\n        return cur_max',\n",
              " '\\n\\n\\nCheck If Two String Arrays are Equivalent\\n\\nGiven two string arrays word1 and word2, return true if the two arrays represent the same string, and false otherwise.\\nA string is represented by an array if the array elements concatenated in order forms the string.\\n\\nInput: word1 = [\"ab\", \"c\"], word2 = [\"a\", \"bc\"]\\nOutput: true\\nExplanation:\\nword1 represents string \"ab\" + \"c\" -> \"abc\"\\nword2 represents string \"a\" + \"bc\" -> \"abc\"\\nThe strings are the same, so return true.\\n\\nmysol (best);\\nclass Solution:\\n    def arrayStringsAreEqual(self, word1: List[str], word2: List[str]) -> bool:\\n        return \"\".join(word2)==\"\".join(word1)',\n",
              " '\\n\\n\\n345. Reverse Vowels of a String\\nGiven a string s, reverse only all the vowels in the string and return it.\\nThe vowels are \\'a\\', \\'e\\', \\'i\\', \\'o\\', and \\'u\\', and they can appear in both cases.\\n\\nInput: s = \"hello\"\\nOutput: \"holle\"\\n\\nmysol (5%)\\nclass Solution:\\n    def swapinstr(self,s,i,j):\\n        mid = s[i+1:j]\\n        end = s[j+1:]\\n        a = s[:i]+s[j]+mid+s[i]+end\\n        return a\\n    def reverseVowels(self, s: str) -> str:\\n        a = s\\n        vowel = {\\'a\\', \\'e\\', \\'i\\', \\'o\\', \\'u\\', \\'A\\', \\'E\\', \\'I\\', \\'O\\', \\'U\\'}\\n        i,j = 0, len(s)-1\\n        while i<j:\\n            if not a[i] in vowel:\\n                i += 1\\n                continue\\n            if not a[j] in vowel:\\n                j -= 1\\n                continue\\n            a = self.swapinstr(a,i,j)\\n            i += 1\\n            j -= 1\\n        return a\\n\\n\\nbetter:\\nclass Solution:\\n    def reverseVowels(self, s):\\n        vowels = {\\'a\\', \\'e\\', \\'i\\', \\'o\\', \\'u\\', \\'A\\', \\'E\\', \\'I\\', \\'O\\', \\'U\\'}\\n        L = list(s)\\n        i = 0\\n        j = len(L) - 1\\n        while i < j:\\n            while i < j and L[i] not in vowels:\\n                i += 1\\n            while j > i and L[j] not in vowels:\\n                j -= 1\\n            L[i], L[j] = L[j], L[i] \\n            i += 1\\n            j -= 1\\n        return \\'\\'.join(L) \\n\\n\\nbetter:\\nclass Solution:\\n    def reverseVowels(self, s: str) -> str:\\n        vowels = set([\\'A\\', \\'a\\', \\'E\\', \\'e\\', \\'I\\', \\'i\\', \\'O\\', \\'o\\', \\'U\\', \\'u\\'])\\n        vowelList = []\\n        for c in s:\\n            if c in vowels:\\n                vowelList.append(c)\\n        ret = \"\"\\n        for c in s:\\n            if c in vowels:\\n                ret += (vowelList.pop())\\n            else:\\n                ret += c\\n        \\n        return ret',\n",
              " \"\\n\\n\\n1704. Determine if String Halves Are Alike\\nYou are given a string s of even length. Split this string into two halves of equal lengths, and let a be the first half and b be the second half.\\n\\nTwo strings are alike if they have the same number of vowels ('a', 'e', 'i', 'o', 'u', 'A', 'E', 'I', 'O', 'U'). Notice that s contains uppercase and lowercase letters.\\n\\nReturn true if a and b are alike. Otherwise, return false.\\n\\nmysol(best):\\nclass Solution:\\n    def halvesAreAlike(self, s: str) -> bool:\\n        vowel = {'a', 'e', 'i', 'o', 'u', 'A', 'E', 'I', 'O', 'U'}\\n        flag = 0\\n        for a in s[:len(s)//2]:\\n            if a in vowel:\\n                flag+=1\\n        for b in s[len(s)//2:]:\\n            if b in vowel:\\n                flag-=1\\n        return flag==0\",\n",
              " '1710. Maximum Units on a Truck\\nEasy\\nYou are assigned to put some amount of boxes onto one truck. You are given a 2D array boxTypes, where boxTypes[i] = [numberOfBoxesi, numberOfUnitsPerBoxi]:\\nYou are also given an integer truckSize, which is the maximum number of boxes that can be put on the truck. You can choose any boxes to put on the truck as long as the number of boxes does not exceed truckSize.\\nReturn the maximum total number of units that can be put on the truck.\\n\\nmysol:\\nclass Solution:\\n    def maximumUnits(self, boxTypes: List[List[int]], truckSize: int) -> int:\\n        boxTypes.sort(key=lambda x: x[1], reverse=True)\\n        size,i,result = 0,0,0\\n        while (size < truckSize and i<len(boxTypes)):\\n            numbox = boxTypes[i][0]\\n            if (size+numbox)>truckSize:\\n                numbox = truckSize - size\\n            result = result + boxTypes[i][1]*numbox\\n            size += boxTypes[i][0]\\n            print(i,size)\\n            i += 1\\n        return result\\n\\nbetter sol:\\nclass Solution:\\n    def maximumUnits(self, boxTypes: List[List[int]], truckSize: int) -> int:\\n        box_dict = {}\\n        for num, unit in boxTypes:\\n            if unit not in box_dict.keys():\\n                box_dict[unit] = num\\n            else:\\n                box_dict[unit] += num\\n                \\n        total_num = 0\\n        result = 0\\n        for unit in sorted(box_dict.keys(), reverse=True):\\n            if total_num + box_dict[unit] > truckSize:\\n                result += (truckSize - total_num) * unit\\n                return result\\n            \\n            result += unit * box_dict[unit]\\n            total_num += box_dict[unit]    \\n        else:\\n            return result',\n",
              " '\\n\\n\\nYou have n coins and you want to build a staircase with these coins. The staircase consists of k rows where the ith row has exactly i coins. The last row of the staircase may be incomplete.\\n\\nGiven the integer n, return the number of complete rows of the staircase you will build.\\n\\n\\nmysol: not good, 900ms\\nclass Solution:\\n    def arrangeCoins(self, n: int) -> int:\\n        res = 0\\n        i = 1\\n        while res<=n:\\n            res += i\\n            i+=1\\n        return i-2\\n\\n\\nApproach 1: Binary Search logn  40ms\\nclass Solution:\\n    def arrangeCoins(self, n: int) -> int:\\n        left, right = 0, n\\n        while left <= right:\\n            k = (right + left) // 2\\n            curr = k * (k + 1) // 2\\n            if curr == n:\\n                return k\\n            if n < curr:\\n                right = k - 1\\n            else:\\n                left = k + 1\\n        return right\\n\\n\\nApproach 2: Math   O(1)   24ms\\nk(k+1)≤2N\\nfind k by squaring both sides and:\\n\\nclass Solution:\\n    def arrangeCoins(self, n: int) -> int:\\n        return (int)((2 * n + 0.25)**0.5 - 0.5)',\n",
              " '\\n\\n\\nGiven an integer num, repeatedly add all its digits until the result has only one digit, and return it.\\n\\nnum = 38\\nOutput: 2\\n\\nmysol:\\nclass Solution:\\n    def addDigits(self, num: int) -> int:\\n        string = str(num)\\n        res = int(string)\\n        while(res>9):\\n            res = 0\\n            for s in string:\\n                res+=int(s)\\n            string = str(res)\\n        return res\\n\\nclass Solution:\\n    def addDigits(self, num: int) -> int:\\n        if num == 0:\\n            return 0\\n        if num%9 == 0:\\n            return 9\\n        return num%9\\n\\nwhich is same as\\nreturn 1 + (num - 1) % 9 if num else 0',\n",
              " \"\\nWe have two special characters. The first character can be represented by one bit 0. The second character can be represented by two bits (10 or 11).\\nNow given a string represented by several bits. Return whether the last character must be a one-bit character or not. The given string will always end with a zero.\\n\\nbits = [1, 0, 0]\\nOutput: True\\nExplanation: \\nThe only way to decode it is two-bit character and one-bit character. So the last character is one-bit character.\\n\\nbits = [1, 1, 1, 0]\\nOutput: False\\nExplanation: \\nThe only way to decode it is two-bit character and two-bit character. So the last character is NOT one-bit character.\\n\\nmysol:\\nclass Solution:\\n    def isOneBitCharacter(self, bits: List[int]) -> bool:\\n        stack = []  #will use append so the end of the list is our head\\n        for i in bits[:-1]:\\n            if i==0 and len(stack)==0:\\n                continue\\n            elif i==0 and stack[-1]==1:\\n                stack.remove(1)\\n            elif i==1 and len(stack)==0:\\n                stack.append(1)\\n            elif i==1 and stack[-1]==1:\\n                stack.remove(1)\\n        if len(stack)==1:\\n            return False\\n        return True\\n\\n\\nApproach #1: Increment Pointer\\n\\nWhen reading from the i-th position, if bits[i] == 0, the next character must have 1 bit; else if bits[i] == 1, the next character must have 2 bits. We increment our read-pointer i to the start of the next character appropriately. At the end, if our pointer is at bits.length - 1, then the last character must have a size of 1 bit.\\n\\nclass Solution(object):\\n    def isOneBitCharacter(self, bits):\\n        i = 0\\n        while i < len(bits) - 1:\\n            i += bits[i] + 1\\n        return i == len(bits) - 1\\n\\nApproach #2: Greedy [Accepted]\\nThe second-last 0 must be the end of a character (or, the beginning of the array if it doesn't exist). Looking from that position forward, the array bits takes the form [1, 1, ..., 1, 0] where there are zero or more 1's present in total. It is easy to show that the answer is true if and only if there are an even number of ones present.\\n\\nIn our algorithm, we will find the second last zero by performing a linear scan from the right. We present two slightly different approaches below.\\n\\nclass Solution(object):\\n    def isOneBitCharacter(self, bits):\\n        parity = bits.pop()\\n        while bits and bits.pop(): parity ^= 1\\n        return parity == 0\",\n",
              " '\\n\\n\\nGiven num, the array-form of an integer, and an integer k, return the array-form of the integer num + k.\\narray form example, for num = 1321, the array form is [1,3,2,1].\\n\\nExample 1:\\nInput: num = [1,2,0,0], k = 34\\nOutput: [1,2,3,4]\\nExplanation: 1200 + 34 = 1234\\n\\nmysol:\\nclass Solution:\\n    def addToArrayForm(self, A: List[int], K: int) -> List[int]:\\n        return list(str(int(\"\".join([str(c) for c in A]))+K))\\n\\nbetter: \\nclass Solution(object):\\n    def addToArrayForm(self, A, K):\\n        A[-1] += K\\n        for i in xrange(len(A) - 1, -1, -1):\\n            carry, A[i] = divmod(A[i], 10)\\n            if i: A[i-1] += carry\\n        if carry:\\n            A = map(int, str(carry)) + A\\n        return A',\n",
              " \"\\n\\n\\n\\nYou are given a string s, return the number of segments in the string. (whitespaces make segments\\ntime space both o(n) \\nclass Solution:\\n    def countSegments(self, s):\\n        return len(s.split())\\n\\n\\napproach 2\\nin place\\nspace O(1)\\n\\nclass Solution:\\n    def countSegments(self, s):\\n        segment_count = 0\\n\\n        for i in range(len(s)):\\n            if (i == 0 or s[i-1] == ' ') and s[i] != ' ':\\n                segment_count += 1\\n\\n        return segment_count\",\n",
              " '\\n\\nWrite a function that reverses a string. The input string is given as an array of characters s.\\nExample 1:\\n\\nInput: s = [\"h\",\"e\",\"l\",\"l\",\"o\"]\\nOutput: [\"o\",\"l\",\"l\",\"e\",\"h\"]\\n\\nmysol:\\ns.reverse()\\n\\nApproach 1: Recursion, In-Place, O(N) Space\\n\\nDoes in-place mean constant space complexity?\\nNo. By definition, an in-place algorithm is an algorithm which transforms input using no auxiliary data structure.\\nThe tricky part is that space is used by many actors, not only by data structures. The classical example is to use recursive function without any auxiliary data structures.\\nIs it in-place? Yes.\\nIs it constant space? No, because of recursion stack.\\n\\nclass Solution:\\n    def reverseString(self, s):\\n        def helper(left, right):\\n            if left < right:\\n                s[left], s[right] = s[right], s[left]\\n                helper(left + 1, right - 1)\\n\\n        helper(0, len(s) - 1)\\n\\n\\n\\nApproach 2: Two Pointers, Iteration, O(1) Space\\nclass Solution:\\n    def reverseString(self, s):\\n        left, right = 0, len(s) - 1\\n        while left < right:\\n            s[left], s[right] = s[right], s[left]\\n            left, right = left + 1, right - 1',\n",
              " 'Find the Duplicate Number\\nGiven an array of integers nums containing n + 1 integers where each integer is in the range [1, n] inclusive.\\nThere is only one repeated number in nums, return this repeated number.\\nmysol:\\nclass Solution:\\n    def findDuplicate(self, nums: List[int]) -> int:\\n        dic={}\\n        for num in nums:\\n            if num in dic:\\n                return num\\n            else:\\n                dic[num]=0\\n\\n\\nApproach 2: Set\\nclass Solution:\\n    def findDuplicate(self, nums):\\n        seen = set()\\n        for num in nums:\\n            if num in seen:\\n                return num\\n            seen.add(num)\\n\\n\\nApproach 3: Floyd\\'s Tortoise and Hare (Cycle Detection)\\nclass Solution:\\n    def findDuplicate(self, nums):\\n        # Find the intersection point of the two runners.\\n        tortoise = hare = nums[0]\\n        while True:\\n            tortoise = nums[tortoise]\\n            hare = nums[nums[hare]]\\n            if tortoise == hare:\\n                break\\n        \\n        # Find the \"entrance\" to the cycle.\\n        tortoise = nums[0]\\n        while tortoise != hare:\\n            tortoise = nums[tortoise]\\n            hare = nums[hare]\\n        \\n        return hare',\n",
              " '\\nGiven the head of a singly linked list, reverse the list, and return the reversed list.\\nInput: head = [1,2,3,4,5]\\nOutput: [5,4,3,2,1]\\n\\nmy sol: \\nclass Solution:\\n    def reverseList(self, head: ListNode) -> ListNode:\\n        prev = None\\n        p = head\\n        while p is not None:\\n            nex = p.next\\n            p.next = prev\\n\\n            prev = p\\n            p = nex\\n        \\n        return prev\\n\\n\\nApproach #2 (Recursive) \\npublic ListNode reverseList(ListNode head) {\\n    if (head == null || head.next == null) return head;\\n    ListNode p = reverseList(head.next);\\n    head.next.next = head;\\n    head.next = null;\\n    return p;\\n}',\n",
              " '\\n\\n\\nTwo Sum II - Input array is sorted\\nGiven an array of integers numbers that is already sorted in ascending order, find two numbers such that they add up to a specific target number.\\n\\nInput: numbers = [2,7,11,15], target = 9\\nOutput: [1,2]\\nclass Solution:\\n    def twoSum(self, numbers: List[int], target: int) -> List[int]:\\n        dic = dict()\\n        for i,number in enumerate(numbers):\\n            if number in dic:\\n                return [dic[number], i+1]\\n            dic[target - number] = i +1',\n",
              " \"\\n\\nLinked List Cycle II\\nGiven a linked list, return the node where the cycle begins. If there is no cycle, return null.\\n\\nclass Solution:\\n    def detectCycle(self, head: ListNode) -> ListNode:          \\n        slow = fast = head\\n        if slow == None or slow.next == None:\\n            return None\\n        \\n        while(fast != None and fast.next != None):\\n            slow = slow.next\\n            fast = fast.next.next\\n            if slow == fast:\\n                len_rem = 0\\n                p = head\\n                while p!=slow:\\n                    len_rem+=1\\n                    p = p.next\\n                    slow = slow.next\\n            \\n                #pass slow to a funciton which uses it to find start of the list.\\n                p=head\\n                for _ in range(len_rem):\\n                    p = p.next\\n                return p\\n        return None\\n\\nclass Solution:\\n    def detectCycle(self, head: ListNode) -> ListNode:\\n        slow = fast = node = head\\n        \\n        # Figure out if there's a cycle and first-intersection\\n        while fast and fast.next:\\n            slow, fast = slow.next, fast.next.next\\n            if slow is fast: break\\n        else:\\n            return None\\n        \\n        # Find cycle entrance\\n        while node is not slow:\\n            node, slow = node.next, slow.next\\n        return node\",\n",
              " '\\n\\n\\nMahavir: Linked List Cycle I\\nReturn true if there is a cycle in the linked list. Otherwise, return false.\\n\\nInput: head = [3,2,0,-4], pos = 1\\nOutput: true\\n\\nInput: head = [1,2], pos = 0\\nOutput: true\\n\\nclass Solution:\\n    def hasCycle(self, head: ListNode) -> bool:\\n        slow = fast = head\\n        if slow == None:\\n            return False    \\n        if slow.next == None:   #only one node or no node at all\\n            return False\\n        \\n        while (fast != None and fast.next != None):\\n            slow = slow.next\\n            fast = fast.next.next\\n            if slow == fast:\\n                return True\\n        return False',\n",
              " 'Given a non-empty array of integers nums, every element appears twice except for one. Find that single one.\\nFollow up: Could you implement a solution with a linear runtime complexity and without using extra memory?\\n\\nInput: nums = [4,1,2,1,2]\\nOutput: 4\\n\\nmath\\nclass Solution:\\n    def singleNumber(self, nums: List[int]) -> int:\\n        return 2*sum(set(nums))-sum(nums)\\n\\nhashtable\\nclass Solution:\\n    def singleNumber(self, nums: List[int]) -> int:\\n        dic = {}\\n        for num in nums:\\n            if num in dic:\\n                dic[num] = 0\\n            else:\\n                dic[num] = 1        \\n        for k in dic:\\n            if dic.get(k):\\n                return k\\n\\nbest:\\nin bit manipulation\\nWe can XOR all bits together to find the unique number.\\n\\nclass Solution(object):\\n    def singleNumber(self, nums):\\n        \"\"\"\\n        :type nums: List[int]\\n        :rtype: int\\n        \"\"\"\\n        a = 0\\n        for i in nums:\\n            a ^= i\\n        return a',\n",
              " '\\n\\n\\nGiven the head of a sorted linked list, delete all duplicates such that each element appears only once. Return the linked list sorted as well.\\n\\n    def deleteDuplicates(self, head):\\n        \"\"\"\\n        :type head: ListNode\\n        :rtype: ListNode\\n        \"\"\"\\n        temp=101\\n        a=ListNode()\\n        if head:\\n            a=head\\n            a=head.next\\n            b=ListNode()\\n            b=head\\n            while a:\\n                if a.val==b.val:\\n                    b.next=a.next\\n                    a=a.next\\n                else:\\n                    b=b.next\\n                    a=a.next\\n            return head\\n        else:\\n            return head\\n\\nmysol: \\nclass Solution:\\n    def delete(self,n):\\n        if n.next is None:\\n            return\\n        n.next = n.next.next\\n    def deleteDuplicates(self, head: ListNode) -> ListNode:\\n        if head is None:\\n            return\\n        prev = head\\n        p = head.next\\n        \\n        while(p is not None):\\n            if p.val == prev.val:\\n                self.delete(prev)     #deletes p only, but we pass a element of left\\n                p = p.next\\n            else:\\n                prev = p\\n                p = p.next\\n            \\n        return head',\n",
              " '\\n\\n\\n\\nGiven a non-negative integer x, compute and return the square root of x\\nclass Solution:\\n    def mySqrt(self, x: int) -> int:\\n        if x<1:\\n            return x\\n        g=x/6\\n        for i in range(18):\\n            r=((x/g) + g)/2\\n            g=r\\n        return int(r)',\n",
              " '\\n\\nYou are *climbing a staircase*. It takes n steps to reach the top.\\n\\nEach time you can either climb 1 or 2 steps. In how many distinct ways can you climb to the top?\\nExample 1:\\n\\nmysolution\\nimport math\\ndef nCr(n,r):\\n    f = math.factorial\\n    return f(n) / f(r) / f(n-r)\\nclass Solution:\\n    def climbStairs(self, n: int) -> int:\\n        i=2\\n        res=0\\n        while( n-2*i >= 0):\\n            res+= nCr(n-i, i) # (n-i) C (i)\\n            i+=1\\n        return int(n+res)\\n\\nbrute force 2^n\\npublic class Solution {\\n    public int climbStairs(int n) {\\n        return climb_Stairs(0, n);\\n    }\\n    public int climb_Stairs(int i, int n) {\\n        if (i > n) {\\n            return 0;\\n        }\\n        if (i == n) {\\n            return 1;\\n        }\\n        return climb_Stairs(i + 1, n) + climb_Stairs(i + 2, n);\\n    }\\n}\\n\\n\\nApproach 2: Recursion with Memoization  (O(n)) \\npublic class Solution {\\n    public int climbStairs(int n) {\\n        int memo[] = new int[n + 1];\\n        return climb_Stairs(0, n, memo);\\n    }\\n    public int climb_Stairs(int i, int n, int memo[]) {\\n        if (i > n) {\\n            return 0;\\n        }\\n        if (i == n) {\\n            return 1;\\n        }\\n        if (memo[i] > 0) {\\n            return memo[i];\\n        }\\n        memo[i] = climb_Stairs(i + 1, n, memo) + climb_Stairs(i + 2, n, memo);\\n        return memo[i];\\n    }\\n}\\n\\nApproach 3: Dynamic Programming    (O(n))\\nOne can reach ith step in one of the two ways:\\n   1. Taking a single step from (i−1)th step.\\n\\n   2. Taking a step of 2 from (i-2)th step.\\n\\npublic class Solution {\\n    public int climbStairs(int n) {\\n        if (n == 1) {\\n            return 1;\\n        }\\n        int[] dp = new int[n + 1];\\n        dp[1] = 1;\\n        dp[2] = 2;\\n        for (int i = 3; i <= n; i++) {\\n            dp[i] = dp[i - 1] + dp[i - 2];\\n        }\\n        return dp[n];\\n    }\\n}\\n\\n\\nApproach 4: Fibonacci Number  O(n) but space is O(1)\\npublic class Solution {\\n    public int climbStairs(int n) {\\n        if (n == 1) {\\n            return 1;\\n        }\\n        int first = 1;\\n        int second = 2;\\n        for (int i = 3; i <= n; i++) {\\n            int third = first + second;\\n            first = second;\\n            second = third;\\n        }\\n        return second;\\n    }\\n}\\n\\n\\n\\napproach 5: Binets Method  time O(logn) and space constt\\nThis is an interesting solution which uses matrix multiplication to obtain the nth Fibonacci Number. \\n\\npython: \\nclass Solution(object): \\n       def climbStairs(self, n):\\n        q = [[1, 1], [1, 0]]\\n        res = self.matPow(q, n)\\n        return res[0][0]\\n  \\n    def matPow(self, a, n):\\n        ret = [[1, 0], [0, 1]]\\n        while n:\\n            if n & 1 == 1:\\n                ret = self.matMult(ret, a)\\n            n = n >> 1\\n            a = self.matMult(a, a)\\n        return ret\\n      \\n    def matMult(self, a, b):\\n        c = [[0 for x in range(2)] for z in range(2)]\\n        for i in range(2):\\n            for j in range(2):\\n                c[i][j] = a[i][0] * b[0][j] + a[i][1] * b[1][j]\\n        return c\\n\\njava, official solution \\n public class Solution {\\n    public int climbStairs(int n) {\\n        int[][] q = {{1, 1}, {1, 0}};\\n        int[][] res = pow(q, n);\\n        return res[0][0];\\n    }\\n    public int[][] pow(int[][] a, int n) {\\n        int[][] ret = {{1, 0}, {0, 1}};\\n        while (n > 0) {\\n            if ((n & 1) == 1) {\\n                ret = multiply(ret, a);\\n            }\\n            n >>= 1;\\n            a = multiply(a, a);\\n        }\\n        return ret;\\n    }\\n    public int[][] multiply(int[][] a, int[][] b) {\\n        int[][] c = new int[2][2];\\n        for (int i = 0; i < 2; i++) {\\n            for (int j = 0; j < 2; j++) {\\n                c[i][j] = a[i][0] * b[0][j] + a[i][1] * b[1][j];\\n            }\\n        }\\n        return c;\\n    }\\n}\\n\\n\\n\\nApproach 6: Fibonacci Formula O(logn), O(1)\\n\\npublic class Solution {\\n    public int climbStairs(int n) {\\n        double sqrt5=Math.sqrt(5);\\n        double fibn=Math.pow((1+sqrt5)/2,n+1)-Math.pow((1-sqrt5)/2,n+1);\\n        return (int)(fibn/sqrt5);\\n    }\\n}\\n\\npython: \\nimport math\\nsqrt5=math.sqrt(5)\\nfibn=math.pow((1+sqrt5)/2,n+1)-math.pow((1-sqrt5)/2,n+1)\\nreturn int(fibn/sqrt5)',\n",
              " 'Given two binary strings a and b, return their sum as a binary string.\\nExample 1:\\n\\nInput: a = \"11\", b = \"1\"\\nOutput: \"100\"\\n\\nclass Solution:\\n    def addBinary(self, a: str, b: str) -> str:\\n        carry=0\\n        result=\"\"\\n        if len(a)<=len(b):\\n            a=\"0\"*(len(b)-len(a))+a\\n        else:\\n            b=\"0\"*(len(a)-len(b))+b\\n        \\n        for i,j in zip(a[::-1], b[::-1]):\\n            if int(i)+int(j)+carry==0:\\n                result+=str(0)\\n                carry=0\\n            elif int(i)+int(j)+carry==1:\\n                result+=str(1)\\n                carry=0\\n            elif int(i)+int(j)+carry==2:\\n                result+=str(0)\\n                carry=1\\n            else:\\n                result+=str(1)\\n                carry=1\\n        result+=str(carry)\\n        return str(int(result[::-1]))',\n",
              " 'Given a non-empty array of decimal digits representing a non-negative integer, increment one to the integer.\\nThe digits are stored such that the most significant digit is at the head of the list, and each element in the array contains a single digit.\\nYou may assume the integer does not contain any leading zero, except the number 0 itself.\\n\\nExample 1:\\nInput: digits = [1,2,3]\\nOutput: [1,2,4]\\nExplanation: The array represents the integer 123.\\n\\nmysol: 32ms\\nclass Solution:\\n    def plusOne(self, digits: List[int]) -> List[int]:\\n        i=len(digits)-1\\n        while(True):\\n            if digits[i]!=9:\\n                digits[i]+=1\\n                return digits\\n            else:\\n                digits[i]=0\\n                if i==0:\\n                    digits.insert(0,1)\\n                    return digits\\n                i-=1',\n",
              " \"\\n\\n\\nGiven a roman numeral, convert it to an integer.\\n\\nclass Solution:\\ndef romanToInt(self, s: str) -> int:\\ntotal = 0\\ndic = {'I':1, 'V':5, 'X':10, 'L':50, 'C':100, 'D':500, 'M':1000}\\n\\n    prev = 0\\n    curr = 0\\n    total = 0\\n    for i in range(len(s)):\\n        curr = dic[s[i]]\\n        if curr > prev:\\n            total = total + curr - 2* prev\\n        else:\\n            total = total + curr\\n        prev=curr\\n    return total\",\n",
              " \"\\n\\n\\n\\n\\nGiven an integer x, return true if x is palindrome integer.\\n\\nAn integer is a palindrome when it reads the same backward as forward. For example, 121 is palindrome while 123 is not.\\n\\nApproach 1: Revert half of the number\\n\\n44ms\\nclass Solution:\\n    def isPalindrome(self, x: int) -> bool:\\n        return str(x)==str(x)[::-1]\\n\\nAlgorithm\\n\\nFirst of all we should take care of some edge cases. All negative numbers are not palindrome, for example: -123 is not a palindrome since the '-' does not equal to '3'. So we can return false for all negative numbers.\\n\\nNow let's think about how to revert the last half of the number. For number 1221, if we do 1221 % 10, we get the last digit 1, to get the second to the last digit, we need to remove the last digit from 1221, we could do so by dividing it by 10, 1221 / 10 = 122. Then we can get the last digit again by doing a modulus by 10, 122 % 10 = 2, and if we multiply the last digit by 10 and add the second last digit, 1 * 10 + 2 = 12, it gives us the reverted number we want. Continuing this process would give us the reverted number with more digits.\\n\\nNow the question is, how do we know that we've reached the half of the number?\\n\\nSince we divided the number by 10, and multiplied the reversed number by 10, when the original number is less than the reversed number, it means we've processed half of the number digits.\",\n",
              " '\\n\\n\\n\\n\\nGiven a signed 32-bit integer x, return x with its digits reversed. If reversing x causes the value to go outside the signed 32-bit integer range [-231, 231 - 1], then return 0.\\n\\nclass Solution:\\n    def reverse(self, x: int) -> int:\\n        sx=str(x)\\n        if sx[0]==\"-\":\\n            sx=\"-\"+ sx[::-1]\\n            if int(sx[0:-1]) > 2147483647 or int(sx[0:-1]) < -2147483648:\\n                return 0\\n            else: \\n                return int(sx[0:-1])\\n        if int(sx[::-1]) > 2147483647 or int(sx[::-1]) < -2147483648:\\n            return 0\\n        else:\\n            return int(sx[::-1])',\n",
              " '\\n\\n\\n\\nGiven an array of integers nums and an integer target, return indices of the two numbers such that they add up to target.\\nYou may assume that each input would have exactly one solution, and you may not use the same element twice.\\n\\nYou can return the answer in any order.\\n\\n# Hashtable: One-pass, Make with Find\\n    def twoSum(self, nums: List[int], target: int) -> List[int]:\\n        n = len(nums)\\n        dic = collections.defaultdict(int)\\n        # O(N)\\n        for i in range(n):\\n            complement = target - nums[i]\\n            if complement in dic:\\n                return [i, dic[complement]]\\n            dic[nums[i]] = i\\n\\n\\n    # Hashtable: Two-pass, Make and Find\\n    def twoSum(self, nums: List[int], target: int) -> List[int]:\\n        n = len(nums)\\n        dic = collections.defaultdict(int)\\n        # O(N)\\n        for idx, num in enumerate(nums):\\n            dic[num] = idx\\n        \\n        # O(N)\\n        for i in range(n):\\n            complement = target - nums[i]\\n            if complement in dic:\\n                if i != dic[complement]:\\n                    return [i, dic[complement]]\\n        \\n    # Brute force, Loop through each element x\\n    def twoSum(self, nums: List[int], target: int) -> List[int]:\\n        n = len(nums)\\n        for i in range(n):\\n            for j in range(i+1, n):\\n                if nums[i] + nums[j] == target:\\n                    return [i, j]',\n",
              " \"\\nGiven a roman numeral, convert it to an integer.\\n\\nclass Solution:\\ndef romanToInt(self, s: str) -> int:\\ntotal = 0\\ndic = {'I':1, 'V':5, 'X':10, 'L':50, 'C':100, 'D':500, 'M':1000}\\n\\n    prev = 0\\n    curr = 0\\n    total = 0\\n    for i in range(len(s)):\\n        curr = dic[s[i]]\\n        if curr > prev:\\n            total = total + curr - 2* prev\\n        else:\\n            total = total + curr\\n        prev=curr\\n    return total\",\n",
              " 'Merge two sorted linked lists and return it as a sorted list. The list should be made by splicing together the nodes of the first two lists\\nExample 1:\\nInput: l1 = [1,2,4], l2 = [1,3,4]\\nOutput: [1,1,2,3,4,4]\\n\\nmy solution: 32ms\\n\\nclass Solution:\\n    def mergeTwoLists(self, l1: ListNode, l2: ListNode) -> ListNode:\\n        if l1 is None:\\n            return l2\\n        if l2 is None:\\n            return l1\\n        \\n        p = l1\\n        q = l2\\n        \\n        if p.val <= q.val:\\n            ll1 = l1\\n            p = p.next\\n        else: \\n            ll1 = l2\\n            q = q.next\\n        \\n        prev = ll1\\n        \\n        while(True):\\n            \\n            if p is None:\\n                prev.next = q\\n                break\\n            elif q is None:\\n                prev.next = p\\n                break\\n            \\n            if p.val <= q.val:\\n                prev.next = p\\n                prev = p\\n                p = p.next\\n            else: \\n                prev.next = q\\n                prev = q\\n                q = q.next\\n\\n        return ll1\\n\\n\\ndef mergeTwoLists(self, l1: ListNode, l2: ListNode) -> ListNode:\\n\\tif not l1:\\n\\t\\treturn l2\\n\\tif not l2:\\n\\t\\treturn l1\\n\\tl1ListNode = l1\\n\\tl2ListNode = l2\\n\\tresultNode = ListNode(0)\\n\\treturnHead = resultNode\\n\\twhile l1ListNode and l2ListNode:\\n\\t\\tif l1ListNode.val <= l2ListNode.val:\\n\\t\\t\\tresultNode.next = l1ListNode\\n\\t\\t\\tl1ListNode = l1ListNode.next\\n\\t\\telse:\\n\\t\\t\\tresultNode.next = l2ListNode\\n\\t\\t\\tl2ListNode = l2ListNode.next\\n\\t\\tresultNode = resultNode.next\\n\\n\\n\\tif not l1ListNode and l2ListNode:\\n\\t\\tresultNode.next = l2ListNode\\n\\telif not l2ListNode and l1ListNode:\\n\\t\\tresultNode.next = l1ListNode\\n\\treturn returnHead.next',\n",
              " 'Given a sorted array of distinct integers and a target value, return the index if the target is found. If not, return the index where it would be if it were inserted in order.\\nExample 1:\\n\\nInput: nums = [1,3,5,6], target = 5\\nOutput: 2\\n\\ndef searchInsert(self, nums: List[int], target: int) -> int:\\n        if target <= nums[0]:\\n            return 0\\n        if target > nums[-1]:\\n            return len(nums)\\n        for i in range(1, len(nums)):\\n            if nums[i] == target:\\n                return i\\n            if nums[i-1] < target < nums[i]:\\n                return i\\n\\n\\nMysolution: 52ms\\nclass Solution:   \\n def searchInsert(self, nums: List[int], target: int) -> int:\\n        for i,num in enumerate(nums):\\n            if target<=num:\\n                return i\\n        return len(nums)',\n",
              " '\\n\\n\\n Return the index of the first occurrence of needle in haystack, or -1 if needle is not part of haystack.\\n\\nClarification:\\n\\nWhat should we return when needle is an empty string? This is a great question to ask during an interview.\\nFor the purpose of this problem, we will return 0 when needle is an empty string. This is consistent to C\\'s strstr() and Java\\'s indexOf().\\nExample 1:\\n\\nInput: haystack = \"hello\", needle = \"ll\"\\nOutput: 2\\n\\nclass Solution:\\n    def strStr(self, haystack: str, needle: str) -> int:\\n        len_h = len(haystack)\\n        len_n = len(needle)\\n        for i in range(len_h - len_n + 1):\\n            if haystack[i:i+len_n]==needle:\\n                return i\\n        return -1',\n",
              " 'Write a function to find the longest common prefix string amongst an array of strings.\\nIf there is no common prefix, return an empty string \"\".\\n\\nExample 1:\\nInput: strs = [\"flower\",\"flow\",\"flight\"]\\nOutput: \"fl\"\\n\\n\\nmy solution:  32ms\\nclass Solution:\\n    def longestCommonPrefix(self, strs: List[str]) -> str:\\n        if len(strs)<1:\\n            return \"\"\\n        if len(strs)==1:\\n            return strs[0]\\n        for i,char in enumerate(strs[0]):\\n            for s in strs:\\n                try:\\n                    if char != s[i]:\\n                        return s[:i]\\n                except:\\n                    return s[:i]\\n        return strs[0]\\n\\n\\n    def longestCommonPrefix(self, strs: List[str]) -> str:\\n        if not strs:\\n            return \"\"\\n        \\n        strs.sort()\\n        \\n        result = []\\n        \\n        for idx, char in enumerate(strs[0]):\\n            if char == strs[-1][idx]:\\n                result.append(char)\\n            else:\\n                break\\n        \\n        return \"\".join(result)\\n\\nhttps://leetcode.com/problems/longest-common-prefix/solution/\\n4 official solutions',\n",
              " '\\n\\n\\n\\n\\n1480. Running Sum of 1d Array\\nGiven an array nums. We define a running sum of an array as runningSum[i] = sum(nums[0]…nums[i]).\\n\\nReturn the running sum of nums.\\n\\nmysol\\nclass Solution:\\n    def runningSum(self, nums: List[int]) -> List[int]:\\n        rs = list()\\n        cs = 0\\n        for num in nums:\\n            cs += num\\n            rs.append(cs)\\n        return rs\\n\\nclass Solution:\\n    def runningSum(self, nums: List[int]) -> List[int]:\\n        output = []\\n        output.append(nums[0])\\n        for i in range(1, len(nums)):\\n            output.append(nums[i] + output[i-1])\\n        return output',\n",
              " '\\n1437. Check If All 1\\'s Are at Least Length K Places Away\\n\\nGiven an array nums of 0s and 1s and an integer k, return True if all 1\\'s are at least k places away from each other, otherwise return False.\\n\\nmysol 550ms:\\nclass Solution:\\n    def kLengthApart(self, nums: List[int], k: int) -> bool:\\n        stack = [-1]*k\\n        for num in nums:\\n            if num==1:\\n                if len(stack)<k:\\n                    return False\\n                stack=[]\\n            else:\\n                stack.append(0)\\n        return True\\n\\n\\nbest sol 530ms:\\n\\nApproach 1: One Pass + Count\\nLet\\'s first implement a pretty straightforward one-pass idea: to iterate over the array and count the number of zeros in-between the \"neighbor\" 1s. Each two neighbor 1s should have at least k zeros in-between. If it\\'s not the case, return false.\\n\\n\\nclass Solution:\\n    def kLengthApart(self, nums: List[int], k: int) -> bool:\\n        # initialize the counter of zeros to k\\n        # to pass the first 1 in nums\\n        count = k\\n        \\n        for num in nums:\\n            # if the current integer is 1\\n            if num == 1:\\n                # check that number of zeros in-between 1s\\n                # is greater than or equal to k\\n                if count < k:\\n                    return False\\n                # reinitialize counter\\n                count = 0\\n            # if the current integer is 0\\n            else:\\n                # increase the counter\\n                count += 1\\n                \\n        return True\\n\\n\\nother sol 900ms:\\nApproach 2: Bit Manipulation\\nThis approach would be more suitable for the Facebook variation of this problem, when the input is not a binary array but an integer.\\n\\nIn this situation, the problem could be solved with the bitwise trick to remove trailing zeros in the binary representation:\\n\\n# remove trailing zeros\\nwhile x & 1 == 0:\\n    x = x >> 1\\n\\n\\nAlgorithm\\n\\n1. Convert binary array into integer x. Note that this conversion always works fine in Python where there is no limit on the value of integers. In Java, the usage of this approach is limited by the integer capacity.\\n\\n2. Consider the base cases: return true if x == 0 or k == 0.\\n\\n3 .Remove trailing zeros in the binary representation of x. That ensures that the last bit of x is 1-bit.\\n\\n4. While x is greater than 1:\\n\\n\\tRemove trailing 1-bit with the right shift: x >>= 1.\\n\\n\\tRemove trailing zeros one by one, and count them using counter count. The number of zeros in-between 1-bits should be greater or equal to k. Hence, return false if count < k.\\n\\n5. We\\'re here because all 1-bits are separated by more than k zeros. Return true.\\n\\n\\n\\nclass Solution:\\n    def kLengthApart(self, nums: List[int], k: int) -> bool:\\n        # convert binary array into int\\n        x = 0\\n        for num in nums:\\n            x = (x << 1) | num\\n        \\n        # base case\\n        if x == 0 or k == 0:\\n            return True\\n        \\n        # remove trailing zeros\\n        while x & 1 == 0:\\n            x = x >> 1\\n        \\n        while x != 1:\\n            # remove trailing 1-bit\\n            x = x >> 1\\n            \\n            # count trailing zeros\\n            count = 0\\n            while x & 1 == 0:\\n                x = x >> 1\\n                count += 1\\n                \\n            # number of zeros in-between 1-bits\\n            # should be greater than or equal to k\\n            if count < k:\\n                return False\\n        \\n        return True\\n\\n\\n\\nall three time O(N) and const space',\n",
              " '\\n\\n1446. Consecutive Characters\\nGiven a string s, the power of the string is the maximum length of a non-empty substring that contains only one unique character.\\nReturn the power of the string.\\n \\nInput: s = \"abbcccddddeeeeedcba\"\\nOutput: 5\\nExplanation: The substring \"eeeee\" is of length 5 with the character \\'e\\' only.\\n\\nmysol (best ithink):\\nclass Solution:\\n    def maxPower(self, s: str) -> int:\\n        currpower = 1\\n        largest = 1\\n        for i in range(1,len(s)):\\n            if s[i]==s[i-1]:\\n                currpower+=1\\n            else:\\n                currpower = 1\\n            if currpower>largest:\\n                largest=currpower\\n        return largest\\n\\nofficial sol:\\nApproach #1: One Pass\\nclass Solution:\\n    def maxPower(self, s: str) -> int:\\n        count = 0\\n        max_count = 0\\n        previous = None\\n        for c in s:\\n            if c == previous:\\n                # if same as previous one, increase the count\\n                count += 1\\n            else:\\n                # else, reset the count\\n                previous = c\\n                count = 1\\n            max_count = max(max_count, count)\\n        return max_count\\n\\n\\n\\n\\nsimilar questions\\n674. Longest Continuous Increasing Subsequence\\n\\nGiven an unsorted array of integers nums, return the length of the longest continuous increasing subsequence (i.e. subarray). The subsequence must be strictly increasing.\\n\\nA continuous increasing subsequence is defined by two indices l and r (l < r) such that it is [nums[l], nums[l + 1], ..., nums[r - 1], nums[r]] and for each l <= i < r, nums[i] < nums[i + 1].\\n\\n\\nmysol 93%:\\nclass Solution:\\n    def findLengthOfLCIS(self, nums: List[int]) -> int:\\n        if len(nums)<=1:\\n            return len(nums)\\n        curcis = 1\\n        longest = 1\\n        for i in range(1,len(nums)):\\n            if nums[i]>nums[i-1]:\\n                curcis+=1\\n            else:\\n                curcis =1\\n            if curcis>longest:\\n                longest=curcis\\n        return longest\\n\\n\\n\\n\\nofficial sol:\\nclass Solution(object):\\n    def findLengthOfLCIS(self, nums):\\n        ans = anchor = 0\\n        for i in range(len(nums)):\\n            if i and nums[i-1] >= nums[i]: anchor = i\\n            ans = max(ans, i - anchor + 1)\\n        return ans',\n",
              " \"1337. The K Weakest Rows in a Matrix\\n\\nYou are given an m x n binary matrix mat of 1's (representing soldiers) and 0's (representing civilians). The soldiers are positioned in front of the civilians. That is, all the 1's will appear to the left of all the 0's in each row.\\n\\nA row i is weaker than a row j if one of the following is true:\\n\\nThe number of soldiers in row i is less than the number of soldiers in row j.\\nBoth rows have the same number of soldiers and i < j.\\nReturn the indices of the k weakest rows in the matrix ordered from weakest to strongest.\\n\\nExample 1:\\nInput: mat = \\n[[1,1,0,0,0],\\n [1,1,1,1,0],\\n [1,0,0,0,0],\\n [1,1,0,0,0],\\n [1,1,1,1,1]], \\nk = 3\\nOutput: [2,0,3]\\nExplanation: \\nThe number of soldiers in each row is: \\n- Row 0: 2 \\n- Row 1: 4 \\n- Row 2: 1 \\n- Row 3: 2 \\n- Row 4: 5 \\nThe rows ordered from weakest to strongest are [2,0,3,1,4].\\n\\n\\n\\nmysol 90%:\\nclass Solution:\\n    def kWeakestRows(self, mat: List[List[int]], k: int) -> List[int]:\\n        sumlist = []\\n        \\n        for i,row in enumerate(mat):\\n            sumlist.append([sum(row),i])\\n        \\n        sumlist.sort(key= lambda x:x[0])\\n        return [row[1] for row in sumlist[:k]]\\n\\n\\n\\n100%\\nclass Solution:\\n    def kWeakestRows(self, mat: List[List[int]], k: int) -> List[int]:\\n        d = {}\\n        for i in range(len(mat)):\\n            d[i] = sum(mat[i])\\n        \\n        return sorted(d, key=d.get)[:k]\",\n",
              " '\\n\\n\\n1394. Find Lucky Integer in an Array\\nGiven an array of integers arr, a lucky integer is an integer which has a frequency in the array equal to its value.\\n\\nReturn a lucky integer in the array. If there are multiple lucky integers return the largest of them. If there is no lucky integer return -1.\\n\\nExample 2:\\nInput: arr = [1,2,2,3,3,3]\\nOutput: 3\\n\\n\\nmysol 87%:\\nclass Solution:\\n    def findLucky(self, arr: List[int]) -> int:\\n        currnum = 1\\n        longest = 1\\n        number  = 0\\n        longestnum = 0\\n        arr.sort()\\n        arr.append(-1)\\n        for i in range(1,len(arr)):\\n            # print(\"start:\", arr[i],i)\\n            if arr[i]==arr[i-1]:\\n                currnum+=1\\n                # print(\"updated currnum to\", currnum)\\n            else:\\n                if currnum == arr[i-1]:\\n                    # print(\"found lucky number\",currnum)\\n                    if longestnum<currnum:\\n                        # print(\"updating longestnum\")\\n                        longestnum= currnum\\n                # print(\"resetting currnum to 1\")\\n                currnum =1\\n            if currnum>longest:\\n                longest=currnum\\n        if longestnum==0:\\n            return -1\\n        return longestnum\\n\\n\\nother:\\nfrom collections import defaultdict\\n\\nclass Solution:\\n    def findLucky(self, arr: List[int]) -> int:\\n        counter_dict = defaultdict(int)\\n        for num in arr:\\n            counter_dict[num] += 1\\n        counter_dict[-1] = -1\\n        return max(num for num, frequency in counter_dict.items() if num == frequency)\\n\\n\\nother:\\nfrom collections import defaultdict\\n\\nclass Solution:\\n    def findLucky(self, arr: List[int]) -> int:\\n        counts = defaultdict(int)\\n        for n in arr:\\n            counts[n] += 1\\n            \\n        luckies = [n for n in counts.keys() if counts[n]==n]\\n        luckies.append(-1)\\n        \\n        lucky = max(luckies)\\n        return lucky\\n\\n\\n\\nother:\\nfrom collections import Counter\\n\\nclass Solution:\\n    def findLucky(self, arr: List[int]) -> int:\\n        counts = Counter(arr)\\n        return max([k for k in counts if counts[k] == k], default=-1)\\n\\nall are good.',\n",
              " '\\n\\n\\n1290. Convert Binary Number in a Linked List to Integer\\nReturn the decimal value of the number in the linked list.\\n\\n\\nmysol:\\n# Definition for singly-linked list.\\n# class ListNode:\\n#     def __init__(self, val=0, next=None):\\n#         self.val = val\\n#         self.next = next\\nclass Solution:\\n    def getDecimalValue(self, head: ListNode) -> int:\\n        p = head\\n        l = []\\n        binary = 0\\n        while p is not None:\\n            l.append(p.val)\\n            p = p.next\\n        leng = len(l)\\n        for i in l:\\n            binary += (2**(leng-1))*i\\n            leng -= 1\\n        return binary\\n\\n\\nofficial sol:\\nbetter:\\nApproach 1: Binary Representation\\nclass Solution:\\n    def getDecimalValue(self, head: ListNode) -> int:\\n        num = head.val\\n        while head.next:\\n            num = num * 2 + head.next.val\\n            head = head.next\\n        return num\\n\\n\\nbetter:\\nApproach 2: Bit Manipulation\\nclass Solution:\\n    def getDecimalValue(self, head: ListNode) -> int:\\n        num = head.val\\n        while head.next:\\n            num = (num << 1) | head.next.val\\n            head = head.next\\n        return num\\n\\nboth time O(N) and const space',\n",
              " '\\n\\n\\n1342. Number of Steps to Reduce a Number to Zero\\nGiven a non-negative integer num, return the number of steps to reduce it to zero. If the current number is even, you have to divide it by 2, otherwise, you have to subtract 1 from it.\\n\\nmysol: best\\nclass Solution:\\n    def numberOfSteps(self, num: int) -> int:\\n        steps=0\\n        while num!=0:\\n            if num%2==0:\\n                num = num/2\\n                steps+=1\\n            else:\\n                num -=1\\n                steps+=1\\n        return steps']"
            ]
          },
          "metadata": {
            "tags": []
          },
          "execution_count": 31
        }
      ]
    },
    {
      "cell_type": "code",
      "metadata": {
        "colab": {
          "base_uri": "https://localhost:8080/"
        },
        "id": "I5gb4WzQfsLG",
        "outputId": "1b6e65ec-83e0-4afe-fca8-2fc457b1f3f9"
      },
      "source": [
        "print(qlist[0])"
      ],
      "execution_count": 34,
      "outputs": [
        {
          "output_type": "stream",
          "text": [
            "Kth Missing Positive Number\n",
            "Given an array arr of positive integers sorted in a strictly increasing order, and an integer k.\n",
            "Find the kth positive integer that is missing from this array.\n",
            "\n",
            "Input: arr = [2,3,4,7,11], k = 5\n",
            "Output: 9\n",
            "\n",
            "Explanation: The missing positive integers are [1,5,6,8,9,10,12,13,...]. The 5th missing positive integer is 9\n",
            "\n",
            "mysol:\n",
            "48ms\n",
            "class Solution:\n",
            "    def findKthPositive(self, arr: List[int], k: int) -> int:\n",
            "        s = set()\n",
            "        for i in range(k+len(arr)+5):\n",
            "            s.add(i)\n",
            "        rem = s-set(arr)\n",
            "        rem = sorted(list(rem))\n",
            "        return rem[k]\n",
            "\n",
            "\n",
            "48ms\n",
            "class Solution:\n",
            "    def findKthPositive(self, arr: List[int], k: int) -> int:\n",
            "        Val,i,count,Set = 0,1,0,set(arr)\n",
            "        while True:\n",
            "            if count == k:\n",
            "                return Val\n",
            "            if i not in Set:\n",
            "                Val = i\n",
            "                count += 1\n",
            "            i += 1  \n",
            "\n",
            "\n",
            "\n",
            "32ms\n",
            "class Solution:\n",
            "    def findKthPositive(self, arr: List[int], k: int) -> int:\n",
            "        l, r = 0, len(arr) - 1\n",
            "        while l <= r:\n",
            "            m = (l + r) // 2\n",
            "            if k <= arr[m] - (m + 1):\n",
            "                r = m - 1\n",
            "            else:\n",
            "                l = m + 1\n",
            "        # return k - (arr[r] - (r + 1)) + arr[r]\n",
            "        return k + l\n"
          ],
          "name": "stdout"
        }
      ]
    },
    {
      "cell_type": "code",
      "metadata": {
        "id": "346R3HKDgJuy"
      },
      "source": [
        "test = qlist[0]"
      ],
      "execution_count": 37,
      "outputs": []
    },
    {
      "cell_type": "code",
      "metadata": {
        "id": "7LI02f0flKXm"
      },
      "source": [
        "def find_between( s, first, last ):\n",
        "    try:\n",
        "        start = s.index( first ) + len( first )\n",
        "        end = s.index( last, start )\n",
        "        return s[start:end]\n",
        "    except ValueError:\n",
        "        return \"\""
      ],
      "execution_count": 39,
      "outputs": []
    },
    {
      "cell_type": "code",
      "metadata": {
        "colab": {
          "base_uri": "https://localhost:8080/"
        },
        "id": "D-_eTDa9hyWI",
        "outputId": "cee5d4ba-a8e4-4053-9b76-75998e02caf6"
      },
      "source": [
        "find_between(test,\"class Solution:\", \"class Solution:\").strip())\n",
        "# while True:\n",
        "#     sol = test.find(\"class Solution:\")\n",
        "#     print(test[sol:sol+50])\n",
        "#     input(\"next?, enter\")"
      ],
      "execution_count": 41,
      "outputs": [
        {
          "output_type": "stream",
          "text": [
            "def findKthPositive(self, arr: List[int], k: int) -> int:\n",
            "        s = set()\n",
            "        for i in range(k+len(arr)+5):\n",
            "            s.add(i)\n",
            "        rem = s-set(arr)\n",
            "        rem = sorted(list(rem))\n",
            "        return rem[k]\n",
            "\n",
            "\n",
            "48ms\n"
          ],
          "name": "stdout"
        }
      ]
    },
    {
      "cell_type": "code",
      "metadata": {
        "id": "JnKuN2IrhyYT"
      },
      "source": [
        "text_file = open(\"sample.py\", \"w\")\n",
        "n = text_file.write(find_between(test,\"class Solution:\", \"class Solution:\"))\n",
        "text_file.close()"
      ],
      "execution_count": 44,
      "outputs": []
    },
    {
      "cell_type": "code",
      "metadata": {
        "id": "zQdv1vRUhya_"
      },
      "source": [
        ""
      ],
      "execution_count": null,
      "outputs": []
    },
    {
      "cell_type": "code",
      "metadata": {
        "id": "AocspJ0xhyeH"
      },
      "source": [
        ""
      ],
      "execution_count": null,
      "outputs": []
    }
  ]
}
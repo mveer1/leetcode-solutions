{
 "cells": [
  {
   "cell_type": "code",
   "execution_count": 4,
   "metadata": {},
   "outputs": [
    {
     "name": "stdout",
     "output_type": "stream",
     "text": [
      "rotator\n",
      "rotator\n",
      "True\n",
      "level\n",
      "level\n",
      "True\n"
     ]
    }
   ],
   "source": [
    "# T.C = O(N)\n",
    "def isPalindrome(s):\n",
    "    print(s)\n",
    "    print(s[::-1])\n",
    "    return s == s[::-1]\n",
    "s1 = \"rotator\"\n",
    "s2 = \"level\"\n",
    "print(isPalindrome(s1))\n",
    "print(isPalindrome(s2))"
   ]
  },
  {
   "cell_type": "code",
   "execution_count": 5,
   "metadata": {},
   "outputs": [
    {
     "name": "stdout",
     "output_type": "stream",
     "text": [
      "['E', 'I', 'L', 'N', 'S', 'T']\n",
      "['E', 'I', 'L', 'N', 'S', 'T']\n",
      "True\n"
     ]
    }
   ],
   "source": [
    "# T.C = O(NLOGN)\n",
    "def isAnagram(s1,s2):\n",
    "    print(sorted(s1))\n",
    "    print(sorted(s2))\n",
    "    return sorted(s1) == sorted(s2)\n",
    "s1 = \"SILENT\"\n",
    "s2 = \"LISTEN\"\n",
    "print(isAnagram(s1,s2))"
   ]
  },
  {
   "cell_type": "code",
   "execution_count": 6,
   "metadata": {},
   "outputs": [
    {
     "name": "stdout",
     "output_type": "stream",
     "text": [
      "Counter({'S': 1, 'I': 1, 'L': 1, 'E': 1, 'N': 1, 'T': 1})\n",
      "Counter({'L': 1, 'I': 1, 'S': 1, 'T': 1, 'E': 1, 'N': 1})\n",
      "True\n"
     ]
    }
   ],
   "source": [
    "# T.C = O(N)\n",
    "from collections import Counter\n",
    "def isAnagram(s1,s2):\n",
    "    print(Counter(s1))\n",
    "    print(Counter(s2))\n",
    "    return Counter(s1) == Counter(s2)\n",
    "s1 = \"SILENT\"\n",
    "s2 = \"LISTEN\"\n",
    "print(isAnagram(s1,s2))"
   ]
  },
  {
   "cell_type": "code",
   "execution_count": 7,
   "metadata": {},
   "outputs": [
    {
     "name": "stdout",
     "output_type": "stream",
     "text": [
      "['programming', 'welcome', 'Coding', 'Hello', 'world', 'Happy', 'to']\n"
     ]
    }
   ],
   "source": [
    "# SORT THE WORDS OF THE STRING BY LENGTH IN DESCENDING ORDER\n",
    "# T.C = O(NLOGN)\n",
    "s = \"Hello world welcome to programming Happy Coding\"\n",
    "A = s.split()\n",
    "A.sort(key=len,reverse=True)\n",
    "print(A)"
   ]
  },
  {
   "cell_type": "code",
   "execution_count": 11,
   "metadata": {},
   "outputs": [
    {
     "name": "stdout",
     "output_type": "stream",
     "text": [
      "[('a', 1), ('d', 1), ('i', 1), ('k', 1), ('l', 1), ('p', 1), ('w', 1), ('e', 2), ('m', 2), ('n', 2), ('o', 2), ('r', 2), ('g', 3)]\n"
     ]
    }
   ],
   "source": [
    "# Sort by Frequency\n",
    "# T.C = O(NLOGN)\n",
    "s = \"programmingknowledge\"\n",
    "from collections import Counter\n",
    "CT = Counter(s)\n",
    "A = list(CT.items())\n",
    "A.sort(key=lambda x:[x[1],x[0]])\n",
    "print(A)"
   ]
  },
  {
   "cell_type": "code",
   "execution_count": null,
   "metadata": {},
   "outputs": [],
   "source": []
  }
 ],
 "metadata": {
  "kernelspec": {
   "display_name": "Python 3",
   "language": "python",
   "name": "python3"
  },
  "language_info": {
   "codemirror_mode": {
    "name": "ipython",
    "version": 3
   },
   "file_extension": ".py",
   "mimetype": "text/x-python",
   "name": "python",
   "nbconvert_exporter": "python",
   "pygments_lexer": "ipython3",
   "version": "3.7.6"
  }
 },
 "nbformat": 4,
 "nbformat_minor": 4
}
